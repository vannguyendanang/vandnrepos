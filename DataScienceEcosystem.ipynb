{
 "cells": [
  {
   "cell_type": "markdown",
   "id": "ea60dede",
   "metadata": {},
   "source": [
    "# Data Science Tools and Ecosystem"
   ]
  },
  {
   "cell_type": "markdown",
   "id": "f9ae6731",
   "metadata": {},
   "source": [
    "In this notebook, Data Science Tools and Ecosystem are summarized."
   ]
  },
  {
   "cell_type": "markdown",
   "id": "e92f7f86-5348-45b5-be71-48ca53ab6ebf",
   "metadata": {},
   "source": [
    "**Objectives:**\n",
    "- List popular languages for Data Science\n",
    "- List commonly used libraries used by Data Scientists\n",
    "- Show a table with rows and columns"
   ]
  },
  {
   "cell_type": "markdown",
   "id": "72a20704-2a8f-4cf8-ac80-e9b54d33d8a7",
   "metadata": {},
   "source": [
    "## Author:\n",
    "Nguyen Thi Ngoc Van"
   ]
  },
  {
   "cell_type": "markdown",
   "id": "8597c771",
   "metadata": {},
   "source": [
    "Some of the popular languages that Data Scientists use are:\n",
    "1. Python\n",
    "2. R\n",
    "3. SQL\n",
    "4. Scala\n",
    "5. Java\n",
    "6. C++\n",
    "7. Julia"
   ]
  },
  {
   "cell_type": "markdown",
   "id": "400eb56a",
   "metadata": {},
   "source": [
    "Some of the commonly used libraries used by Data Scientists include:\n",
    "- Pandas\n",
    "- NumPy\n",
    "- SciPy\n",
    "- Matplotlib."
   ]
  },
  {
   "cell_type": "code",
   "execution_count": 1,
   "id": "cb349475-09ae-415e-bc48-8610f4e4e085",
   "metadata": {
    "tags": []
   },
   "outputs": [
    {
     "data": {
      "text/html": [
       "<style>\n",
       "table {float:left}\n",
       "</style>\n"
      ],
      "text/plain": [
       "<IPython.core.display.HTML object>"
      ]
     },
     "metadata": {},
     "output_type": "display_data"
    }
   ],
   "source": [
    "%%html\n",
    "<style>\n",
    "table {float:left}\n",
    "</style>"
   ]
  },
  {
   "cell_type": "markdown",
   "id": "c1b8ee38",
   "metadata": {},
   "source": [
    "<style>\n",
    ".left-aligned-table {\n",
    "    text-align: left;\n",
    "}\n",
    "</style>\n",
    "\n",
    "\n",
    "<table style=\"text-align: left;\">\n",
    "    <thead>\n",
    "        <tr><th style=\"text-align: left;\">Data Science Tools</th></tr>\n",
    "    </thead>\n",
    "    <tbody>\n",
    "        <tr>\n",
    "            <td style=\"text-align: left;\">Rstudio</td>\n",
    "        </tr>\n",
    "        <tr>\n",
    "            <td style=\"text-align: left;\">Jupyter Notebooks</td>\n",
    "        </tr>\n",
    "        <tr>\n",
    "            <td style=\"text-align: left;\">IBM Watson Studio</td>\n",
    "        </tr>        \n",
    "    </tbody>\n",
    "</table>    \n"
   ]
  },
  {
   "cell_type": "markdown",
   "id": "286e71a4-0762-4716-b531-14cf93a47014",
   "metadata": {},
   "source": [
    "### Below are a few examples of evaluating arithmetic expressions in Python\n",
    "- Addition: <br> 2 + 3 = 5\n",
    "- Subtraction: 10-5 = 5\n",
    "- Exponent: 2**4 = 16\n",
    "- Multiplication: 3*9 = 27\n",
    "- Division: 10/5 = 2"
   ]
  },
  {
   "cell_type": "code",
   "execution_count": 2,
   "id": "bbbd8b49-5452-40df-aaa6-4f8e4b2588f0",
   "metadata": {
    "tags": []
   },
   "outputs": [
    {
     "data": {
      "text/plain": [
       "17"
      ]
     },
     "execution_count": 2,
     "metadata": {},
     "output_type": "execute_result"
    }
   ],
   "source": [
    "#This a simple arithmetic expression to mutiply then add integers\n",
    "(3*4)+5"
   ]
  },
  {
   "cell_type": "code",
   "execution_count": 4,
   "id": "d67a0ea8-1c21-44e8-aaf6-04392ea67a16",
   "metadata": {
    "tags": []
   },
   "outputs": [
    {
     "data": {
      "text/plain": [
       "3.3333333333333335"
      ]
     },
     "execution_count": 4,
     "metadata": {},
     "output_type": "execute_result"
    }
   ],
   "source": [
    "#This will convert 200 minutes to hours by diving by 60\n",
    "result = 200/60\n",
    "result"
   ]
  },
  {
   "cell_type": "code",
   "execution_count": null,
   "id": "e610cdfd-bba5-4e85-8dbf-e79eb24bb39b",
   "metadata": {},
   "outputs": [],
   "source": []
  }
 ],
 "metadata": {
  "kernelspec": {
   "display_name": "Python 3 (ipykernel)",
   "language": "python",
   "name": "python3"
  },
  "language_info": {
   "codemirror_mode": {
    "name": "ipython",
    "version": 3
   },
   "file_extension": ".py",
   "mimetype": "text/x-python",
   "name": "python",
   "nbconvert_exporter": "python",
   "pygments_lexer": "ipython3",
   "version": "3.11.3"
  }
 },
 "nbformat": 4,
 "nbformat_minor": 5
}
